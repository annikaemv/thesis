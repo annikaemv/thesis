{
 "cells": [
  {
   "cell_type": "code",
   "execution_count": 5,
   "metadata": {
    "collapsed": false
   },
   "outputs": [],
   "source": [
    "% matplotlib notebook\n",
    "import pandas as pd\n",
    "import numpy as np\n",
    "import matplotlib as mpl\n",
    "from datetime import datetime as dt\n",
    "import matplotlib.pyplot as plt\n",
    "\n",
    "mpl.style.use('ggplot')\n",
    "mpl.rcParams['figure.figsize'] = (8,6)\n",
    "mpl.rcParams['font.size'] = 8"
   ]
  },
  {
   "cell_type": "code",
   "execution_count": 8,
   "metadata": {
    "collapsed": false
   },
   "outputs": [],
   "source": [
    "# Function to plot a bar graph for # tweets on each date\n",
    "def plot_tweets(figname, username, color):\n",
    "    data = pd.read_csv(username)\n",
    "    datacopy = data.copy(deep=True)\n",
    "    dates = datacopy['created_at']\n",
    "    dates2 = []\n",
    "    dates3 = []\n",
    "    for d in dates:\n",
    "        d = dt.strptime(d, '%Y-%m-%d %H:%M:%S')\n",
    "        dates2.append(d)\n",
    "    dates2 = sorted(dates2)\n",
    "    for d in dates2:\n",
    "        g = str(d.month) + '-' + str(d.day)\n",
    "        dates3.append(g)\n",
    "    datesseries = pd.Series(dates3)\n",
    "    datesseries2 = datesseries.unique()\n",
    "    values = datesseries.value_counts()\n",
    "    values_inorder = []\n",
    "    for item in datesseries2:\n",
    "        values_inorder.append(values.get(item))\n",
    "    datesseriesdf = pd.DataFrame(datesseries2)\n",
    "    fig = plt.bar(datesseriesdf.index.get_values(), values_inorder, tick_label = datesseriesdf[0], color = color)\n",
    "    plt.xticks(rotation='vertical') \n",
    "    plt.title(figname)\n",
    "    plt.xlabel('Date (2017)')\n",
    "    plt.ylabel('# Tweets')"
   ]
  },
  {
   "cell_type": "code",
   "execution_count": null,
   "metadata": {
    "collapsed": false
   },
   "outputs": [],
   "source": []
  },
  {
   "cell_type": "code",
   "execution_count": 1,
   "metadata": {
    "collapsed": false
   },
   "outputs": [],
   "source": [
    "# Special function to use on Nashville Scene & News Channel 5 -- cut to only from Oct 1, 2017 onward.\n",
    "def plot_tweets_with_date_cut(figname, username, color):\n",
    "    data = pd.read_csv(username)\n",
    "    datacopy = data.copy(deep=True)\n",
    "    dates = datacopy['created_at']\n",
    "    dates2 = []\n",
    "    dates3 = []\n",
    "    for d in dates:\n",
    "        if (\"2017-10\") in d:\n",
    "            d = dt.strptime(d, '%Y-%m-%d %H:%M:%S')\n",
    "            dates2.append(d)\n",
    "        elif (\"2017-11\") in d:\n",
    "            d = dt.strptime(d, '%Y-%m-%d %H:%M:%S')\n",
    "            dates2.append(d)\n",
    "    dates2 = sorted(dates2)\n",
    "    for d in dates2:\n",
    "        g = str(d.month) + '-' + str(d.day)\n",
    "        dates3.append(g)\n",
    "    datesseries = pd.Series(dates3)\n",
    "    datesseries2 = datesseries.unique()\n",
    "    values = datesseries.value_counts()\n",
    "    values_inorder = []\n",
    "    for item in datesseries2:\n",
    "        values_inorder.append(values.get(item))\n",
    "    datesseriesdf = pd.DataFrame(datesseries2)\n",
    "    fig = plt.bar(datesseriesdf.index.get_values(), values_inorder, tick_label = datesseriesdf[0], color = color)\n",
    "    plt.xticks(rotation='vertical') \n",
    "    plt.title(figname)\n",
    "    plt.xlabel('Date (2017)')\n",
    "    plt.ylabel('# Tweets')"
   ]
  },
  {
   "cell_type": "code",
   "execution_count": 12,
   "metadata": {
    "collapsed": false
   },
   "outputs": [
    {
     "name": "stdout",
     "output_type": "stream",
     "text": [
      "[ 0  1  2  3  4  5  6  7  8  9 10 11 12 13 14 15 16 17 18 19 20 21 22 23 24\n",
      " 25 26 27 28 29 30 31 32 33 34 35 36 37 38 39 40 41 42 43 44 45 46 47 48 49]\n"
     ]
    }
   ],
   "source": []
  },
  {
   "cell_type": "code",
   "execution_count": null,
   "metadata": {
    "collapsed": true
   },
   "outputs": [],
   "source": []
  }
 ],
 "metadata": {
  "kernelspec": {
   "display_name": "Python 3",
   "language": "python",
   "name": "python3"
  },
  "language_info": {
   "codemirror_mode": {
    "name": "ipython",
    "version": 3
   },
   "file_extension": ".py",
   "mimetype": "text/x-python",
   "name": "python",
   "nbconvert_exporter": "python",
   "pygments_lexer": "ipython3",
   "version": "3.6.0"
  }
 },
 "nbformat": 4,
 "nbformat_minor": 2
}
